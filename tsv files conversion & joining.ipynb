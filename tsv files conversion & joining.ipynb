{
 "cells": [
  {
   "cell_type": "code",
   "execution_count": 303,
   "metadata": {},
   "outputs": [],
   "source": [
    "import pandas as pd\n",
    "\n",
    "# Defining custom processing function for each .tsv file\n",
    "def process_tsv_file(file_path):\n",
    "\n",
    "    #Those tvs files have info with inconsistent rows and column. But those are in 1st 10 columns.\n",
    "    # So extracting those by putting custom column names\n",
    "    c_names= [1,2,3,4,5,6,7,8,9,10]\n",
    "\n",
    "    #these are tsv (tab separater values) files. To read those pd.read_csv with '\\t' separator has to be used\n",
    "    df = pd.read_csv(file_path, sep='\\t', header=None, names= c_names)\n",
    "\n",
    "    #As per our target file extracting 0th 1st & 3rd rows with 0th & 1st columns of values. Then transposing those to get our desired shape.\n",
    "    # Then resetting index to start index from 0 & dropping existing index so that those won't be a part of dataframe of sdf1. Index needs \n",
    "    # to be reset in order to reindexing it in later step for successful concate with other dataframe.\n",
    "    sdf1 = df.iloc[[0,1,3],[0,1]].T.reset_index(drop=True)\n",
    "\n",
    "    #As per our target file extracting all values starting from 6th rows onward and all columns of values.\n",
    "    # Then resetting index to start index from 0 & dropping existing index so that those won't be a part of dataframe of sdf2. Index needs \n",
    "    # to be reset in order to reindexing it in later step for successful concate with other dataframe.\n",
    "    # Here we also filling the null/ NaN values with blank so it doesn't conflict with ffill() in later step.\n",
    "    sdf2 = df.iloc[6:,].fillna('').reset_index(drop=True)\n",
    "\n",
    "    #In order to concat 2 dataframes side by side perfectly both the dataframes need to have same row numbers. So here we determine the \n",
    "    # max row number to make both the dataframe equal in rows for flawless concat.\n",
    "    max_rows = max(len(sdf1), len(sdf2))\n",
    "\n",
    "    #Based on the max_rows this will create (if needed) rows and fill those with NaN value to make it equal to other dataframe.\n",
    "    sdf1re = sdf1.reindex(range(max_rows))\n",
    "\n",
    "    #Based on the max_rows this will create (if needed) rows and fill those with NaN value to make it equal to other dataframe.\n",
    "    sdf2re = sdf2.reindex(range(max_rows))\n",
    "    \n",
    "    # Concatenating 2 dataframe to make one side by side by using axis = 1\n",
    "    df3sub = pd.concat([sdf1re, sdf2re], axis= 1)\n",
    "\n",
    "    #Forward filling the NaN/ null values with previous available value.\n",
    "    df3sub = df3sub.ffill()\n",
    "    \n",
    "    #To make the 1st row as header/ Column name of the dataframe\n",
    "    df3sub.columns = df3sub.iloc[0]\n",
    "    \n",
    "    #Delete that column from dataset which is made header.\n",
    "    df_processed = df3sub.drop(df3sub.index[0]).reset_index(drop=True)\n",
    "    return df_processed"
   ]
  },
  {
   "cell_type": "code",
   "execution_count": 304,
   "metadata": {},
   "outputs": [],
   "source": [
    "#To process all tsv files individually\n",
    "\n",
    "# Specify the .tsv files\n",
    "file1 = r\"E:\\Python practice\\tsv File convert\\FBA181BC7LP4.tsv\"\n",
    "file2 = r\"E:\\Python practice\\tsv File convert\\FBA181BCD5HX.tsv\"\n",
    "file3 = r\"E:\\Python practice\\tsv File convert\\FBA181B7GSP5.tsv\"\n",
    "\n",
    "#Applying custom function on those files\n",
    "file1final = process_tsv_file(file1)\n",
    "file2final = process_tsv_file(file2)\n",
    "file3final = process_tsv_file(file3)"
   ]
  },
  {
   "cell_type": "code",
   "execution_count": 305,
   "metadata": {},
   "outputs": [],
   "source": [
    "#To created combined excel file from all tsv files putting those manually one by one\n",
    "#Excel file (combined_data.xlsx) will be created in the same location of this ipynb file\n",
    "\n",
    "with pd.ExcelWriter('combined_data.xlsx', engine='openpyxl') as writer:\n",
    "    file1final.to_excel(writer, sheet_name='Sheet1', index=False, startrow=0)\n",
    "    file2final.to_excel(writer, sheet_name='Sheet1', index=False, header= False, startrow=len(file1final)+1)\n",
    "    file3final.to_excel(writer, sheet_name='Sheet1', index=False, header= False, startrow=(len(file1final) + len(file2final))+1)"
   ]
  },
  {
   "cell_type": "code",
   "execution_count": 296,
   "metadata": {},
   "outputs": [
    {
     "name": "stdout",
     "output_type": "stream",
     "text": [
      "Collecting xlsxwriter\n",
      "  Downloading XlsxWriter-3.2.0-py3-none-any.whl.metadata (2.6 kB)\n",
      "Downloading XlsxWriter-3.2.0-py3-none-any.whl (159 kB)\n",
      "   ---------------------------------------- 0.0/159.9 kB ? eta -:--:--\n",
      "   -- ------------------------------------- 10.2/159.9 kB ? eta -:--:--\n",
      "   ------- ------------------------------- 30.7/159.9 kB 325.1 kB/s eta 0:00:01\n",
      "   --------- ----------------------------- 41.0/159.9 kB 326.8 kB/s eta 0:00:01\n",
      "   ----------------- --------------------- 71.7/159.9 kB 393.8 kB/s eta 0:00:01\n",
      "   ------------------------ ------------- 102.4/159.9 kB 420.8 kB/s eta 0:00:01\n",
      "   ------------------------------- ------ 133.1/159.9 kB 522.9 kB/s eta 0:00:01\n",
      "   ------------------------------------ - 153.6/159.9 kB 482.7 kB/s eta 0:00:01\n",
      "   -------------------------------------- 159.9/159.9 kB 456.4 kB/s eta 0:00:00\n",
      "Installing collected packages: xlsxwriter\n",
      "Successfully installed xlsxwriter-3.2.0\n",
      "Note: you may need to restart the kernel to use updated packages.\n"
     ]
    }
   ],
   "source": [
    "#If xlsxwriter isn't installed then that has to be installed by running command pip install xlsxwriter\n",
    "\n",
    "pip install xlsxwriter"
   ]
  },
  {
   "cell_type": "code",
   "execution_count": 306,
   "metadata": {},
   "outputs": [],
   "source": [
    "#To automatically read all tsv files from a folder apply custom defined function on those files \n",
    "# and automatically write those in a single excel file\n",
    "\n",
    "#Excel file (output.xlsx) will be created in the same location of this ipynb file\n",
    "\n",
    "#If xlsxwriter isn't installed then that has to be installed by running command pip install xlsxwriter\n",
    "\n",
    "import glob\n",
    "import os\n",
    "\n",
    "# Specify the folder containing the .tsv files\n",
    "folder_path = r'E:\\Python practice\\tsv File convert'\n",
    "\n",
    "# Use glob to get all .tsv files in the folder\n",
    "tsv_files = glob.glob(os.path.join(folder_path, \"*.tsv\"))\n",
    "\n",
    "# Create an ExcelWriter object to write to the same sheet\n",
    "with pd.ExcelWriter('output.xlsx', engine='xlsxwriter') as writer:\n",
    "    start_row = 0  # Initialize row counter for writing data to Excel\n",
    "    \n",
    "    for i, file in enumerate(tsv_files):\n",
    "        # Process each file using the custom function\n",
    "        df_processed = process_tsv_file(file)\n",
    "        \n",
    "        # Write the first DataFrame with headers\n",
    "        if i == 0:\n",
    "            df_processed.to_excel(writer, sheet_name='Sheet1', startrow=start_row, index=False)\n",
    "            start_row += len(df_processed) + 1  # Update start_row for next DataFrame\n",
    "        \n",
    "        # Write the rest of the DataFrames without headers\n",
    "        else:\n",
    "            df_processed.to_excel(writer, sheet_name='Sheet1', startrow=start_row, index=False, header=False)\n",
    "            start_row += len(df_processed)   # Update start_row for the next DataFrame"
   ]
  }
 ],
 "metadata": {
  "kernelspec": {
   "display_name": "base",
   "language": "python",
   "name": "python3"
  },
  "language_info": {
   "codemirror_mode": {
    "name": "ipython",
    "version": 3
   },
   "file_extension": ".py",
   "mimetype": "text/x-python",
   "name": "python",
   "nbconvert_exporter": "python",
   "pygments_lexer": "ipython3",
   "version": "3.11.7"
  }
 },
 "nbformat": 4,
 "nbformat_minor": 2
}
